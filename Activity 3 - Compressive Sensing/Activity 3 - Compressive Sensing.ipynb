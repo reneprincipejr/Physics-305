{
 "cells": [
  {
   "cell_type": "code",
   "execution_count": 1,
   "id": "a13a9702",
   "metadata": {
    "ExecuteTime": {
     "end_time": "2023-06-08T09:53:39.453969Z",
     "start_time": "2023-06-08T09:53:38.643453Z"
    }
   },
   "outputs": [],
   "source": [
    "import numpy as np\n",
    "import matplotlib.pyplot as plt"
   ]
  },
  {
   "cell_type": "code",
   "execution_count": 8,
   "id": "4731bcb9",
   "metadata": {
    "ExecuteTime": {
     "end_time": "2023-06-08T09:55:08.058068Z",
     "start_time": "2023-06-08T09:55:07.967748Z"
    }
   },
   "outputs": [
    {
     "data": {
      "text/plain": [
       "[<matplotlib.lines.Line2D at 0x7fb0a809d940>]"
      ]
     },
     "execution_count": 8,
     "metadata": {},
     "output_type": "execute_result"
    },
    {
     "data": {
      "image/png": "[encoded data removed]",
      "text/plain": [
       "<Figure size 432x288 with 1 Axes>"
      ]
     },
     "metadata": {
      "needs_background": "light"
     },
     "output_type": "display_data"
    }
   ],
   "source": [
    "Fsamp = 8192\n",
    "dt = 1/Fsamp\n",
    "t = np.linspace(0,dt,1000) \n",
    "f = 440\n",
    "x = np.sin(2*np.pi*f*t)\n",
    "\n",
    "plt.plot(t,x, 'r.')"
   ]
  },
  {
   "cell_type": "code",
   "execution_count": 7,
   "id": "0de604e5",
   "metadata": {
    "ExecuteTime": {
     "end_time": "2023-06-08T09:55:03.910371Z",
     "start_time": "2023-06-08T09:55:03.900902Z"
    }
   },
   "outputs": [
    {
     "data": {
      "text/plain": [
       "array([0.00000000e+00, 1.23303346e-06, 2.46606692e-06, 3.69910038e-06,\n",
       "       4.93213384e-06, 6.16516730e-06, 7.39820076e-06, 8.63123422e-06,\n",
       "       9.86426768e-06, 1.10973011e-05, 1.23303346e-05, 1.35633681e-05,\n",
       "       1.47964015e-05, 1.60294350e-05, 1.72624684e-05, 1.84955019e-05,\n",
       "       1.97285354e-05, 2.09615688e-05, 2.21946023e-05, 2.34276357e-05,\n",
       "       2.46606692e-05, 2.58937027e-05, 2.71267361e-05, 2.83597696e-05,\n",
       "       2.95928030e-05, 3.08258365e-05, 3.20588699e-05, 3.32919034e-05,\n",
       "       3.45249369e-05, 3.57579703e-05, 3.69910038e-05, 3.82240372e-05,\n",
       "       3.94570707e-05, 4.06901042e-05, 4.19231376e-05, 4.31561711e-05,\n",
       "       4.43892045e-05, 4.56222380e-05, 4.68552715e-05, 4.80883049e-05,\n",
       "       4.93213384e-05, 5.05543718e-05, 5.17874053e-05, 5.30204388e-05,\n",
       "       5.42534722e-05, 5.54865057e-05, 5.67195391e-05, 5.79525726e-05,\n",
       "       5.91856061e-05, 6.04186395e-05, 6.16516730e-05, 6.28847064e-05,\n",
       "       6.41177399e-05, 6.53507734e-05, 6.65838068e-05, 6.78168403e-05,\n",
       "       6.90498737e-05, 7.02829072e-05, 7.15159407e-05, 7.27489741e-05,\n",
       "       7.39820076e-05, 7.52150410e-05, 7.64480745e-05, 7.76811080e-05,\n",
       "       7.89141414e-05, 8.01471749e-05, 8.13802083e-05, 8.26132418e-05,\n",
       "       8.38462753e-05, 8.50793087e-05, 8.63123422e-05, 8.75453756e-05,\n",
       "       8.87784091e-05, 9.00114426e-05, 9.12444760e-05, 9.24775095e-05,\n",
       "       9.37105429e-05, 9.49435764e-05, 9.61766098e-05, 9.74096433e-05,\n",
       "       9.86426768e-05, 9.98757102e-05, 1.01108744e-04, 1.02341777e-04,\n",
       "       1.03574811e-04, 1.04807844e-04, 1.06040878e-04, 1.07273911e-04,\n",
       "       1.08506944e-04, 1.09739978e-04, 1.10973011e-04, 1.12206045e-04,\n",
       "       1.13439078e-04, 1.14672112e-04, 1.15905145e-04, 1.17138179e-04,\n",
       "       1.18371212e-04, 1.19604246e-04, 1.20837279e-04, 1.22070312e-04])"
      ]
     },
     "execution_count": 7,
     "metadata": {},
     "output_type": "execute_result"
    }
   ],
   "source": [
    "t = np.linspace(0,dt,100) \n",
    "t"
   ]
  },
  {
   "cell_type": "code",
   "execution_count": null,
   "id": "5af5059c",
   "metadata": {},
   "outputs": [],
   "source": []
  }
 ],
 "metadata": {
  "kernelspec": {
   "display_name": "Python 3 (ipykernel)",
   "language": "python",
   "name": "python3"
  },
  "language_info": {
   "codemirror_mode": {
    "name": "ipython",
    "version": 3
   },
   "file_extension": ".py",
   "mimetype": "text/x-python",
   "name": "python",
   "nbconvert_exporter": "python",
   "pygments_lexer": "ipython3",
   "version": "3.9.12"
  },
  "toc": {
   "base_numbering": 1,
   "nav_menu": {},
   "number_sections": true,
   "sideBar": true,
   "skip_h1_title": false,
   "title_cell": "Table of Contents",
   "title_sidebar": "Contents",
   "toc_cell": false,
   "toc_position": {},
   "toc_section_display": true,
   "toc_window_display": false
  },
  "varInspector": {
   "cols": {
    "lenName": 16,
    "lenType": 16,
    "lenVar": 40
   },
   "kernels_config": {
    "python": {
     "delete_cmd_postfix": "",
     "delete_cmd_prefix": "del ",
     "library": "var_list.py",
     "varRefreshCmd": "print(var_dic_list())"
    },
    "r": {
     "delete_cmd_postfix": ") ",
     "delete_cmd_prefix": "rm(",
     "library": "var_list.r",
     "varRefreshCmd": "cat(var_dic_list()) "
    }
   },
   "types_to_exclude": [
    "module",
    "function",
    "builtin_function_or_method",
    "instance",
    "_Feature"
   ],
   "window_display": false
  }
 },
 "nbformat": 4,
 "nbformat_minor": 5
}
